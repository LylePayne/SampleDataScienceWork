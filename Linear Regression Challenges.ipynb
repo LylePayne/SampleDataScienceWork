{
 "cells": [
  {
   "cell_type": "markdown",
   "metadata": {},
   "source": [
    "##Challenge 1\n",
    "\n",
    "We are fitting and checking the predictions on the exact same dataset! Divide your data into two sets: a training and a test set (roughly 75% training, %25 test). Fit a model on the training set, check the predictions (by plotting versus actual values) in the test set."
   ]
  },
  {
   "cell_type": "code",
   "execution_count": 1,
   "metadata": {
    "collapsed": false
   },
   "outputs": [],
   "source": [
    "%matplotlib inline\n",
    "import pandas as pd\n",
    "import numpy as np\n",
    "from datetime import datetime\n",
    "\n",
    "movies = pd.read_csv('2013_movies.csv', parse_dates={'Date':['ReleaseDate']})\n",
    "movies['Date'] = movies['Date'].astype(datetime)"
   ]
  },
  {
   "cell_type": "code",
   "execution_count": 2,
   "metadata": {
    "collapsed": false
   },
   "outputs": [
    {
     "data": {
      "text/html": [
       "<div style=\"max-height:1000px;max-width:1500px;overflow:auto;\">\n",
       "<table border=\"1\" class=\"dataframe\">\n",
       "  <thead>\n",
       "    <tr style=\"text-align: right;\">\n",
       "      <th></th>\n",
       "      <th>Date</th>\n",
       "      <th>Title</th>\n",
       "      <th>Budget</th>\n",
       "      <th>DomesticTotalGross</th>\n",
       "      <th>Director</th>\n",
       "      <th>Rating</th>\n",
       "      <th>Runtime</th>\n",
       "    </tr>\n",
       "  </thead>\n",
       "  <tbody>\n",
       "    <tr>\n",
       "      <th>0</th>\n",
       "      <td>2013-11-22</td>\n",
       "      <td> The Hunger Games: Catching Fire</td>\n",
       "      <td> 130000000</td>\n",
       "      <td> 424668047</td>\n",
       "      <td>          Francis Lawrence</td>\n",
       "      <td> PG-13</td>\n",
       "      <td> 146</td>\n",
       "    </tr>\n",
       "    <tr>\n",
       "      <th>1</th>\n",
       "      <td>2013-05-03</td>\n",
       "      <td>                      Iron Man 3</td>\n",
       "      <td> 200000000</td>\n",
       "      <td> 409013994</td>\n",
       "      <td>               Shane Black</td>\n",
       "      <td> PG-13</td>\n",
       "      <td> 129</td>\n",
       "    </tr>\n",
       "    <tr>\n",
       "      <th>2</th>\n",
       "      <td>2013-11-22</td>\n",
       "      <td>                          Frozen</td>\n",
       "      <td> 150000000</td>\n",
       "      <td> 400738009</td>\n",
       "      <td>    Chris BuckJennifer Lee</td>\n",
       "      <td>    PG</td>\n",
       "      <td> 108</td>\n",
       "    </tr>\n",
       "    <tr>\n",
       "      <th>3</th>\n",
       "      <td>2013-07-03</td>\n",
       "      <td>                 Despicable Me 2</td>\n",
       "      <td>  76000000</td>\n",
       "      <td> 368061265</td>\n",
       "      <td> Pierre CoffinChris Renaud</td>\n",
       "      <td>    PG</td>\n",
       "      <td>  98</td>\n",
       "    </tr>\n",
       "    <tr>\n",
       "      <th>4</th>\n",
       "      <td>2013-06-14</td>\n",
       "      <td>                    Man of Steel</td>\n",
       "      <td> 225000000</td>\n",
       "      <td> 291045518</td>\n",
       "      <td>               Zack Snyder</td>\n",
       "      <td> PG-13</td>\n",
       "      <td> 143</td>\n",
       "    </tr>\n",
       "  </tbody>\n",
       "</table>\n",
       "</div>"
      ],
      "text/plain": [
       "        Date                            Title     Budget  DomesticTotalGross  \\\n",
       "0 2013-11-22  The Hunger Games: Catching Fire  130000000           424668047   \n",
       "1 2013-05-03                       Iron Man 3  200000000           409013994   \n",
       "2 2013-11-22                           Frozen  150000000           400738009   \n",
       "3 2013-07-03                  Despicable Me 2   76000000           368061265   \n",
       "4 2013-06-14                     Man of Steel  225000000           291045518   \n",
       "\n",
       "                    Director Rating  Runtime  \n",
       "0           Francis Lawrence  PG-13      146  \n",
       "1                Shane Black  PG-13      129  \n",
       "2     Chris BuckJennifer Lee     PG      108  \n",
       "3  Pierre CoffinChris Renaud     PG       98  \n",
       "4                Zack Snyder  PG-13      143  "
      ]
     },
     "execution_count": 2,
     "metadata": {},
     "output_type": "execute_result"
    }
   ],
   "source": [
    "movies.head()"
   ]
  },
  {
   "cell_type": "code",
   "execution_count": 3,
   "metadata": {
    "collapsed": false
   },
   "outputs": [],
   "source": [
    "import matplotlib.pyplot as plt\n",
    "from sklearn.linear_model import LinearRegression\n",
    "from sklearn import cross_validation"
   ]
  },
  {
   "cell_type": "code",
   "execution_count": 4,
   "metadata": {
    "collapsed": false
   },
   "outputs": [],
   "source": [
    "movies_clean = movies.dropna()\n",
    "headers = list(movies_clean.columns.values)"
   ]
  },
  {
   "cell_type": "code",
   "execution_count": 5,
   "metadata": {
    "collapsed": false
   },
   "outputs": [],
   "source": [
    "train_test = cross_validation.train_test_split(movies_clean, test_size = .25, train_size = .75)"
   ]
  },
  {
   "cell_type": "code",
   "execution_count": 6,
   "metadata": {
    "collapsed": false
   },
   "outputs": [],
   "source": [
    "train_movies = train_test[0]\n",
    "test_movies = train_test[1]"
   ]
  },
  {
   "cell_type": "code",
   "execution_count": 7,
   "metadata": {
    "collapsed": false
   },
   "outputs": [
    {
     "name": "stdout",
     "output_type": "stream",
     "text": [
      "65\n",
      "22\n"
     ]
    }
   ],
   "source": [
    "print len(train_movies)\n",
    "print len(test_movies)"
   ]
  },
  {
   "cell_type": "code",
   "execution_count": 8,
   "metadata": {
    "collapsed": false
   },
   "outputs": [],
   "source": [
    "train_df = pd.DataFrame(train_movies, columns = headers)\n",
    "test_df = pd.DataFrame(test_movies, columns = headers)"
   ]
  },
  {
   "cell_type": "code",
   "execution_count": 9,
   "metadata": {
    "collapsed": false
   },
   "outputs": [
    {
     "data": {
      "text/plain": [
       "<matplotlib.text.Text at 0x116ae7f10>"
      ]
     },
     "execution_count": 9,
     "metadata": {},
     "output_type": "execute_result"
    },
    {
     "data": {
      "image/png": "[encoded data removed]",
      "text/plain": [
       "<matplotlib.figure.Figure at 0x116a91cd0>"
      ]
     },
     "metadata": {},
     "output_type": "display_data"
    }
   ],
   "source": [
    "from sklearn.linear_model import LinearRegression\n",
    "\n",
    "X_train = train_df[['Budget']].astype(float)\n",
    "Y_train = train_df['DomesticTotalGross'].astype(float)\n",
    "\n",
    "X_test = test_df[['Budget']].astype(float)\n",
    "Y_test = test_df['DomesticTotalGross'].astype(float)\n",
    "\n",
    "plt.plot(X_train, Y_train, 'ro')\n",
    "plt.plot(X_test, Y_test, 'go')\n",
    "\n",
    "plt.title(\"How does budget relate to Domestic Total Gross\")\n",
    "plt.xlabel(\"Budget\")\n",
    "plt.ylabel(\"DomesticTotalGross\")"
   ]
  },
  {
   "cell_type": "code",
   "execution_count": 10,
   "metadata": {
    "collapsed": false
   },
   "outputs": [
    {
     "data": {
      "text/plain": [
       "pandas.core.frame.DataFrame"
      ]
     },
     "execution_count": 10,
     "metadata": {},
     "output_type": "execute_result"
    }
   ],
   "source": [
    "type(X_train)"
   ]
  },
  {
   "cell_type": "code",
   "execution_count": 11,
   "metadata": {
    "collapsed": false
   },
   "outputs": [
    {
     "name": "stdout",
     "output_type": "stream",
     "text": [
      "coefficient:       \t 0.684529\n",
      "intercept:         \t 5.12624e+07\n",
      "R^2 Train:         \t 0.241043\n",
      "R^2 Test:          \t 0.362133\n"
     ]
    }
   ],
   "source": [
    "from sklearn.linear_model import LinearRegression\n",
    "\n",
    "X_train = train_df[['Budget']].astype(float)\n",
    "Y_train = train_df['DomesticTotalGross'].astype(float)\n",
    "\n",
    "X_test = test_df[['Budget']].astype(float)\n",
    "Y_test = test_df['DomesticTotalGross'].astype(float)\n",
    "\n",
    "sk_linmodel = LinearRegression()\n",
    "sk_linmodel.fit(X_train, Y_train)\n",
    "\n",
    "print 'coefficient:       \\t %g' %sk_linmodel.coef_  \n",
    "print 'intercept:         \\t %g' %sk_linmodel.intercept_\n",
    "print 'R^2 Train:         \\t %g' %sk_linmodel.score(X_train,Y_train)\n",
    "print 'R^2 Test:          \\t %g' %sk_linmodel.score(X_test,Y_test)"
   ]
  },
  {
   "cell_type": "code",
   "execution_count": 12,
   "metadata": {
    "collapsed": false
   },
   "outputs": [
    {
     "data": {
      "text/plain": [
       "<matplotlib.text.Text at 0x116bff550>"
      ]
     },
     "execution_count": 12,
     "metadata": {},
     "output_type": "execute_result"
    },
    {
     "data": {
      "image/png": "[encoded data removed]",
      "text/plain": [
       "<matplotlib.figure.Figure at 0x1119e0450>"
      ]
     },
     "metadata": {},
     "output_type": "display_data"
    }
   ],
   "source": [
    "X_train = train_df[['Budget']].astype(float)\n",
    "Y_train = train_df['DomesticTotalGross'].astype(float)\n",
    "\n",
    "X_test = test_df[['Budget']].astype(float)\n",
    "Y_test = test_df['DomesticTotalGross'].astype(float)\n",
    "\n",
    "plt.plot(X_train, Y_train, 'ro')\n",
    "plt.plot(X_test, Y_test, 'go')\n",
    "plt.plot(X_train, sk_linmodel.predict(X_train), 'm-')\n",
    "plt.plot(X_test, sk_linmodel.predict(X_test), 'yo')\n",
    "\n",
    "plt.title(\"How does budget relate to Domestic Total Gross\")\n",
    "plt.xlabel(\"Budget\")\n",
    "plt.ylabel(\"DomesticTotalGross\")"
   ]
  },
  {
   "cell_type": "markdown",
   "metadata": {},
   "source": [
    "My model fit my training set with an R^2 of .33, my test set fit less well with an R^2 of .11"
   ]
  },
  {
   "cell_type": "code",
   "execution_count": 13,
   "metadata": {
    "collapsed": false
   },
   "outputs": [
    {
     "name": "stdout",
     "output_type": "stream",
     "text": [
      "R^2 Train:         \t 0.241043\n",
      "R^2 Test:          \t 0.362133\n"
     ]
    }
   ],
   "source": [
    "print 'R^2 Train:         \\t %g' %sk_linmodel.score(X_train,Y_train)\n",
    "print 'R^2 Test:          \\t %g' %sk_linmodel.score(X_test,Y_test)"
   ]
  },
  {
   "cell_type": "markdown",
   "metadata": {},
   "source": [
    "##Challenge 2\n",
    "\n",
    "Build a model that also uses average director gross as a feature (one of the predictor variables). Fit and evaluate. Would you use this model to predict gross revenues of upcoming movies?"
   ]
  },
  {
   "cell_type": "code",
   "execution_count": 22,
   "metadata": {
    "collapsed": false
   },
   "outputs": [
    {
     "name": "stderr",
     "output_type": "stream",
     "text": [
      "/usr/local/lib/python2.7/site-packages/IPython/kernel/__main__.py:6: SettingWithCopyWarning: \n",
      "A value is trying to be set on a copy of a slice from a DataFrame.\n",
      "Try using .loc[row_indexer,col_indexer] = value instead\n",
      "\n",
      "See the the caveats in the documentation: http://pandas.pydata.org/pandas-docs/stable/indexing.html#indexing-view-versus-copy\n"
     ]
    }
   ],
   "source": [
    "groups_by_director = movies_clean.groupby('Director')\n",
    "director_gross = groups_by_director['DomesticTotalGross'].mean()\n",
    "\n",
    "#director_gross\n",
    "\n",
    "movies_clean['Average Director Gross'] = movies_clean['Director'].apply(lambda x: director_gross[x])"
   ]
  },
  {
   "cell_type": "code",
   "execution_count": 16,
   "metadata": {
    "collapsed": false
   },
   "outputs": [
    {
     "data": {
      "text/html": [
       "<div style=\"max-height:1000px;max-width:1500px;overflow:auto;\">\n",
       "<table border=\"1\" class=\"dataframe\">\n",
       "  <thead>\n",
       "    <tr style=\"text-align: right;\">\n",
       "      <th></th>\n",
       "      <th>Date</th>\n",
       "      <th>Title</th>\n",
       "      <th>Budget</th>\n",
       "      <th>DomesticTotalGross</th>\n",
       "      <th>Director</th>\n",
       "      <th>Rating</th>\n",
       "      <th>Runtime</th>\n",
       "      <th>Average Director Gross</th>\n",
       "    </tr>\n",
       "  </thead>\n",
       "  <tbody>\n",
       "    <tr>\n",
       "      <th>0</th>\n",
       "      <td>2013-11-22</td>\n",
       "      <td> The Hunger Games: Catching Fire</td>\n",
       "      <td> 130000000</td>\n",
       "      <td> 424668047</td>\n",
       "      <td>          Francis Lawrence</td>\n",
       "      <td> PG-13</td>\n",
       "      <td> 146</td>\n",
       "      <td> 424668047</td>\n",
       "    </tr>\n",
       "    <tr>\n",
       "      <th>1</th>\n",
       "      <td>2013-05-03</td>\n",
       "      <td>                      Iron Man 3</td>\n",
       "      <td> 200000000</td>\n",
       "      <td> 409013994</td>\n",
       "      <td>               Shane Black</td>\n",
       "      <td> PG-13</td>\n",
       "      <td> 129</td>\n",
       "      <td> 409013994</td>\n",
       "    </tr>\n",
       "    <tr>\n",
       "      <th>2</th>\n",
       "      <td>2013-11-22</td>\n",
       "      <td>                          Frozen</td>\n",
       "      <td> 150000000</td>\n",
       "      <td> 400738009</td>\n",
       "      <td>    Chris BuckJennifer Lee</td>\n",
       "      <td>    PG</td>\n",
       "      <td> 108</td>\n",
       "      <td> 400738009</td>\n",
       "    </tr>\n",
       "    <tr>\n",
       "      <th>3</th>\n",
       "      <td>2013-07-03</td>\n",
       "      <td>                 Despicable Me 2</td>\n",
       "      <td>  76000000</td>\n",
       "      <td> 368061265</td>\n",
       "      <td> Pierre CoffinChris Renaud</td>\n",
       "      <td>    PG</td>\n",
       "      <td>  98</td>\n",
       "      <td> 368061265</td>\n",
       "    </tr>\n",
       "    <tr>\n",
       "      <th>4</th>\n",
       "      <td>2013-06-14</td>\n",
       "      <td>                    Man of Steel</td>\n",
       "      <td> 225000000</td>\n",
       "      <td> 291045518</td>\n",
       "      <td>               Zack Snyder</td>\n",
       "      <td> PG-13</td>\n",
       "      <td> 143</td>\n",
       "      <td> 291045518</td>\n",
       "    </tr>\n",
       "  </tbody>\n",
       "</table>\n",
       "</div>"
      ],
      "text/plain": [
       "        Date                            Title     Budget  DomesticTotalGross  \\\n",
       "0 2013-11-22  The Hunger Games: Catching Fire  130000000           424668047   \n",
       "1 2013-05-03                       Iron Man 3  200000000           409013994   \n",
       "2 2013-11-22                           Frozen  150000000           400738009   \n",
       "3 2013-07-03                  Despicable Me 2   76000000           368061265   \n",
       "4 2013-06-14                     Man of Steel  225000000           291045518   \n",
       "\n",
       "                    Director Rating  Runtime  Average Director Gross  \n",
       "0           Francis Lawrence  PG-13      146               424668047  \n",
       "1                Shane Black  PG-13      129               409013994  \n",
       "2     Chris BuckJennifer Lee     PG      108               400738009  \n",
       "3  Pierre CoffinChris Renaud     PG       98               368061265  \n",
       "4                Zack Snyder  PG-13      143               291045518  "
      ]
     },
     "execution_count": 16,
     "metadata": {},
     "output_type": "execute_result"
    }
   ],
   "source": [
    "movies_clean.head()"
   ]
  },
  {
   "cell_type": "code",
   "execution_count": 17,
   "metadata": {
    "collapsed": false
   },
   "outputs": [
    {
     "data": {
      "text/plain": [
       "Director\n",
       "Malcolm D. Lee    2\n",
       "James Wan         2\n",
       "Zack Snyder       1\n",
       "Harald Zwart      1\n",
       "Edgar Wright      1\n",
       "Name: DomesticTotalGross, dtype: int64"
      ]
     },
     "execution_count": 17,
     "metadata": {},
     "output_type": "execute_result"
    }
   ],
   "source": [
    "director_gross = groups_by_director['DomesticTotalGross'].count()\n",
    "director_gross.sort('Title', inplace = True, ascending = False)\n",
    "\n",
    "director_gross.head()\n",
    "#len(director_gross)"
   ]
  },
  {
   "cell_type": "markdown",
   "metadata": {},
   "source": [
    "Only two directors with more than 1 film"
   ]
  },
  {
   "cell_type": "code",
   "execution_count": 18,
   "metadata": {
    "collapsed": false
   },
   "outputs": [
    {
     "name": "stderr",
     "output_type": "stream",
     "text": [
      "/usr/local/lib/python2.7/site-packages/IPython/kernel/__main__.py:1: SettingWithCopyWarning: \n",
      "A value is trying to be set on a copy of a slice from a DataFrame.\n",
      "Try using .loc[row_indexer,col_indexer] = value instead\n",
      "\n",
      "See the the caveats in the documentation: http://pandas.pydata.org/pandas-docs/stable/indexing.html#indexing-view-versus-copy\n",
      "  if __name__ == '__main__':\n"
     ]
    }
   ],
   "source": [
    "movies_clean['Ones'] = 1.0"
   ]
  },
  {
   "cell_type": "code",
   "execution_count": 19,
   "metadata": {
    "collapsed": false
   },
   "outputs": [],
   "source": [
    "import statsmodels.formula.api as sm"
   ]
  },
  {
   "cell_type": "code",
   "execution_count": 20,
   "metadata": {
    "collapsed": false
   },
   "outputs": [
    {
     "data": {
      "text/html": [
       "<table class=\"simpletable\">\n",
       "<caption>OLS Regression Results</caption>\n",
       "<tr>\n",
       "  <th>Dep. Variable:</th>    <td>DomesticTotalGross</td> <th>  R-squared:         </th> <td>   0.997</td> \n",
       "</tr>\n",
       "<tr>\n",
       "  <th>Model:</th>                    <td>OLS</td>        <th>  Adj. R-squared:    </th> <td>   0.997</td> \n",
       "</tr>\n",
       "<tr>\n",
       "  <th>Method:</th>              <td>Least Squares</td>   <th>  F-statistic:       </th> <td>1.273e+04</td>\n",
       "</tr>\n",
       "<tr>\n",
       "  <th>Date:</th>              <td>Wed, 05 Aug 2015</td>  <th>  Prob (F-statistic):</th> <td>5.19e-105</td>\n",
       "</tr>\n",
       "<tr>\n",
       "  <th>Time:</th>                  <td>11:28:36</td>      <th>  Log-Likelihood:    </th> <td> -1465.7</td> \n",
       "</tr>\n",
       "<tr>\n",
       "  <th>No. Observations:</th>       <td>    87</td>       <th>  AIC:               </th> <td>   2937.</td> \n",
       "</tr>\n",
       "<tr>\n",
       "  <th>Df Residuals:</th>           <td>    84</td>       <th>  BIC:               </th> <td>   2945.</td> \n",
       "</tr>\n",
       "<tr>\n",
       "  <th>Df Model:</th>               <td>     2</td>       <th>                     </th>     <td> </td>    \n",
       "</tr>\n",
       "<tr>\n",
       "  <th>Covariance Type:</th>       <td>nonrobust</td>     <th>                     </th>     <td> </td>    \n",
       "</tr>\n",
       "</table>\n",
       "<table class=\"simpletable\">\n",
       "<tr>\n",
       "             <td></td>               <th>coef</th>     <th>std err</th>      <th>t</th>      <th>P>|t|</th> <th>[95.0% Conf. Int.]</th> \n",
       "</tr>\n",
       "<tr>\n",
       "  <th>Budget</th>                 <td>    0.0016</td> <td>    0.011</td> <td>    0.144</td> <td> 0.885</td> <td>   -0.020     0.023</td>\n",
       "</tr>\n",
       "<tr>\n",
       "  <th>Average Director Gross</th> <td>    0.9994</td> <td>    0.007</td> <td>  135.083</td> <td> 0.000</td> <td>    0.985     1.014</td>\n",
       "</tr>\n",
       "<tr>\n",
       "  <th>Ones</th>                   <td>-5.987e+04</td> <td> 9.45e+05</td> <td>   -0.063</td> <td> 0.950</td> <td>-1.94e+06  1.82e+06</td>\n",
       "</tr>\n",
       "</table>\n",
       "<table class=\"simpletable\">\n",
       "<tr>\n",
       "  <th>Omnibus:</th>       <td>40.173</td> <th>  Durbin-Watson:     </th> <td>   1.997</td>\n",
       "</tr>\n",
       "<tr>\n",
       "  <th>Prob(Omnibus):</th> <td> 0.000</td> <th>  Jarque-Bera (JB):  </th> <td>1598.288</td>\n",
       "</tr>\n",
       "<tr>\n",
       "  <th>Skew:</th>          <td> 0.053</td> <th>  Prob(JB):          </th> <td>    0.00</td>\n",
       "</tr>\n",
       "<tr>\n",
       "  <th>Kurtosis:</th>      <td>23.998</td> <th>  Cond. No.          </th> <td>2.74e+08</td>\n",
       "</tr>\n",
       "</table>"
      ],
      "text/plain": [
       "<class 'statsmodels.iolib.summary.Summary'>\n",
       "\"\"\"\n",
       "                            OLS Regression Results                            \n",
       "==============================================================================\n",
       "Dep. Variable:     DomesticTotalGross   R-squared:                       0.997\n",
       "Model:                            OLS   Adj. R-squared:                  0.997\n",
       "Method:                 Least Squares   F-statistic:                 1.273e+04\n",
       "Date:                Wed, 05 Aug 2015   Prob (F-statistic):          5.19e-105\n",
       "Time:                        11:28:36   Log-Likelihood:                -1465.7\n",
       "No. Observations:                  87   AIC:                             2937.\n",
       "Df Residuals:                      84   BIC:                             2945.\n",
       "Df Model:                           2                                         \n",
       "Covariance Type:            nonrobust                                         \n",
       "==========================================================================================\n",
       "                             coef    std err          t      P>|t|      [95.0% Conf. Int.]\n",
       "------------------------------------------------------------------------------------------\n",
       "Budget                     0.0016      0.011      0.144      0.885        -0.020     0.023\n",
       "Average Director Gross     0.9994      0.007    135.083      0.000         0.985     1.014\n",
       "Ones                   -5.987e+04   9.45e+05     -0.063      0.950     -1.94e+06  1.82e+06\n",
       "==============================================================================\n",
       "Omnibus:                       40.173   Durbin-Watson:                   1.997\n",
       "Prob(Omnibus):                  0.000   Jarque-Bera (JB):             1598.288\n",
       "Skew:                           0.053   Prob(JB):                         0.00\n",
       "Kurtosis:                      23.998   Cond. No.                     2.74e+08\n",
       "==============================================================================\n",
       "\n",
       "Warnings:\n",
       "[1] Standard Errors assume that the covariance matrix of the errors is correctly specified.\n",
       "[2] The condition number is large, 2.74e+08. This might indicate that there are\n",
       "strong multicollinearity or other numerical problems.\n",
       "\"\"\""
      ]
     },
     "execution_count": 20,
     "metadata": {},
     "output_type": "execute_result"
    }
   ],
   "source": [
    "X = movies_clean[['Budget', 'Average Director Gross', 'Ones']]\n",
    "Y = movies_clean['DomesticTotalGross']\n",
    "linmodel = sm.OLS(Y, X).fit()\n",
    "linmodel.summary()"
   ]
  },
  {
   "cell_type": "markdown",
   "metadata": {},
   "source": [
    "I would not use this as a feature to predict average domestic gross; for every director where they've directed only one movie (all but two directors) we're using the gross to predict itself. The R^2 is almost 1.00, which seems like it's a great model, but really it's using a value to predict the same value. If we had a larger data set of movies to pull from where directors had multiple movies to average, it would be a better predictor."
   ]
  },
  {
   "cell_type": "code",
   "execution_count": null,
   "metadata": {
    "collapsed": false
   },
   "outputs": [],
   "source": []
  }
 ],
 "metadata": {
  "kernelspec": {
   "display_name": "Python 2",
   "language": "python",
   "name": "python2"
  },
  "language_info": {
   "codemirror_mode": {
    "name": "ipython",
    "version": 2
   },
   "file_extension": ".py",
   "mimetype": "text/x-python",
   "name": "python",
   "nbconvert_exporter": "python",
   "pygments_lexer": "ipython2",
   "version": "2.7.9"
  }
 },
 "nbformat": 4,
 "nbformat_minor": 0
}
